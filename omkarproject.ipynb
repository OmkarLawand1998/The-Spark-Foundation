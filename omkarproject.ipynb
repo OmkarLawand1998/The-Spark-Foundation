{
  "nbformat": 4,
  "nbformat_minor": 0,
  "metadata": {
    "kernelspec": {
      "language": "python",
      "display_name": "Python 3",
      "name": "python3"
    },
    "language_info": {
      "pygments_lexer": "ipython3",
      "nbconvert_exporter": "python",
      "version": "3.6.4",
      "file_extension": ".py",
      "codemirror_mode": {
        "name": "ipython",
        "version": 3
      },
      "name": "python",
      "mimetype": "text/x-python"
    },
    "colab": {
      "name": "omkarproject.ipynb",
      "provenance": [],
      "collapsed_sections": [],
      "include_colab_link": true
    }
  },
  "cells": [
    {
      "cell_type": "markdown",
      "metadata": {
        "id": "view-in-github",
        "colab_type": "text"
      },
      "source": [
        "<a href=\"https://colab.research.google.com/github/OmkarLawand1998/The-Spark-Foundation/blob/main/omkarproject.ipynb\" target=\"_parent\"><img src=\"https://colab.research.google.com/assets/colab-badge.svg\" alt=\"Open In Colab\"/></a>"
      ]
    },
    {
      "cell_type": "markdown",
      "metadata": {
        "id": "-ee59jjCZ7e7"
      },
      "source": [
        "# An analysis of the COVID-19's Lockdown effect on the Pollution level in Delhi"
      ]
    },
    {
      "cell_type": "markdown",
      "metadata": {
        "id": "aX9drj2CZ7fA"
      },
      "source": [
        "Delhi is one of many capitals enjoying improved air quality since restrictions were introduced due to the coronavirus .\n",
        "A nationwide lockdown imposed across India on 24 March to stop the spread of the coronavirus – the largest lockdown of its kind attempted anywhere – has led to widespread chaos and suffering, especially among the country’s 300 million poor. Yet in Delhi, the world’s most polluted city, it has also resulted in some of the freshest air the capital has seen in decades."
      ]
    },
    {
      "cell_type": "markdown",
      "metadata": {
        "id": "BkFj6_RdZ7fB"
      },
      "source": [
        "# This notebook covers  -\n",
        "   \n",
        "*  Analyzing pollution levels in delhi over the years from 2015 to 2020\n",
        "*  Effect of lockdown on pollution level of delhi"
      ]
    },
    {
      "cell_type": "markdown",
      "metadata": {
        "id": "kpEIoUUFZ7fB"
      },
      "source": [
        "# About Dataset\n",
        "\n",
        "The dataset contains air quality data and AQI (Air Quality Index) at hourly and daily level of various stations across multiple cities in India, But I am using only delhi's data for analysis.\n",
        "\n",
        "\n"
      ]
    },
    {
      "cell_type": "markdown",
      "metadata": {
        "id": "x46S-ix7Z7fC"
      },
      "source": [
        "# Air-Pollution-everything-you-need-know "
      ]
    },
    {
      "cell_type": "markdown",
      "metadata": {
        "id": "aBihEO14Z7fD"
      },
      "source": [
        "## What Is Air Pollution?\n",
        "\n",
        "Car emissions, chemicals from factories, dust, pollen and mold spores may be suspended as particles. Ozone, a gas, is a major part of air pollution in cities. When ozone forms air pollution, it's also called smog.\n",
        "\n",
        "Some air pollutants are poisonous. Inhaling them can increase the chance you'll have health problems. People with heart or lung disease, older adults and children are at greater risk from air pollution. Air pollution isn't just outside - the air inside buildings can also be polluted and affect your health."
      ]
    },
    {
      "cell_type": "markdown",
      "metadata": {
        "id": "XCnnbcQGZ7fD"
      },
      "source": [
        "## Types of air pollution\n",
        "\n",
        "* particulate matter\n",
        "* nitrogen dioxide\n",
        "* ozone\n",
        "* sulphur dioxide "
      ]
    },
    {
      "cell_type": "markdown",
      "metadata": {
        "id": "MmhVUE4KZ7fE"
      },
      "source": [
        "### Particular matter\n",
        "\n",
        "Particulate matter is a mix of solids and liquids, including carbon, complex organic chemicals, sulphates, nitrates, mineral dust, and water suspended in the air.\n",
        "\n",
        "PM varies in size. Some particles, such as dust, soot, dirt or smoke are large or dark enough to be seen with the naked eye. But the most damaging particles are the smaller particles, known as PM10 and PM2.5. PM10 refers to particles with a diameter smaller than 10 microns (10µm) – that’s 100 times smaller than a millimetre. PM2.5 refers to particles with a diameter smaller than 2.5 microns, and these are known as fine particles. The smallest fine particles, less than 0.1 micron in diameter, are called ultrafine particles.\n",
        "\n",
        "### Nitrogen dioxide (NO2)\n",
        "\n",
        "Nitrogen dioxide is a gas and is a major component of urban air pollution episodes.Man-made sources of nitrogen oxides(NO), including nitrogen dioxide(NO2), are vehicles, power stations and heating. Diesel vehicles are major contributors in urban areas. Roadside levels are highest where traffic is busiest.\n",
        "\n",
        "### Ozone (O3)\n",
        "\n",
        "Ozone is a gas composed of 3 atoms of oxygen. In the upper level of the Earth’s atmosphere, it absorbs harmful ultraviolet radiation.Near the ground, ozone is made by a chemical reaction between the sun’s rays and organic gases and oxides of nitrogen emitted by cars, power plants, chemical plants and other sources.Ozone is usually highest in the spring and summer and lowest in the winter. Ozone levels are highest during the afternoon and are often higher in the country than in towns. Ozone is a major component of summer air pollution episodes.\n",
        "\n",
        "### Sulphur dioxide (SO2)\n",
        "\n",
        "Sulphur dioxide is a colourless gas, with a pungent, suffocating smell. It’s produced by burning sulphur-containing fuels such as coal and oil. This includes vehicles, power generation and heating.\n",
        "Most sulphur dioxide comes from electric industries that burn fossil fuels, and also from petrol refineries and cement manufacturing. It can travel over long distances and contributes to the formation of ozone.\n",
        "\n"
      ]
    },
    {
      "cell_type": "markdown",
      "metadata": {
        "id": "cZvzrCv0Z7fF"
      },
      "source": [
        "# Importing necessary libraries"
      ]
    },
    {
      "cell_type": "code",
      "metadata": {
        "trusted": true,
        "id": "UdcnPTufZ7fF"
      },
      "source": [
        "import numpy as np \n",
        "import pandas as pd \n",
        "import os\n",
        "\n",
        "# Visualisation libraries\n",
        "import matplotlib.pyplot as plt\n",
        "%matplotlib inline\n",
        "import seaborn as sns\n",
        "\n",
        "import plotly.express as px\n",
        "import plotly.graph_objects as go\n",
        "\n",
        "\n"
      ],
      "execution_count": null,
      "outputs": []
    },
    {
      "cell_type": "markdown",
      "metadata": {
        "id": "iF8oU4KqZ7fG"
      },
      "source": [
        "# Importing datset"
      ]
    },
    {
      "cell_type": "code",
      "metadata": {
        "trusted": true,
        "id": "lENGfhwkZ7fG",
        "colab": {
          "base_uri": "https://localhost:8080/",
          "height": 751
        },
        "outputId": "74744c25-2c50-481a-dd8a-a5c4b90568b4"
      },
      "source": [
        "url='/content/city_day.csv'\n",
        "city_day_data=pd.read_csv(url)\n",
        " \n",
        "# Extract delhi's data \n",
        " \n",
        "delhi_data=city_day_data.groupby('City').get_group('Delhi')"
      ],
      "execution_count": null,
      "outputs": [
        {
          "output_type": "error",
          "ename": "FileNotFoundError",
          "evalue": "ignored",
          "traceback": [
            "\u001b[0;31m---------------------------------------------------------------------------\u001b[0m",
            "\u001b[0;31mFileNotFoundError\u001b[0m                         Traceback (most recent call last)",
            "\u001b[0;32m<ipython-input-2-f3d877892103>\u001b[0m in \u001b[0;36m<module>\u001b[0;34m()\u001b[0m\n\u001b[1;32m      1\u001b[0m \u001b[0murl\u001b[0m\u001b[0;34m=\u001b[0m\u001b[0;34m'/content/city_day.csv'\u001b[0m\u001b[0;34m\u001b[0m\u001b[0;34m\u001b[0m\u001b[0m\n\u001b[0;32m----> 2\u001b[0;31m \u001b[0mcity_day_data\u001b[0m\u001b[0;34m=\u001b[0m\u001b[0mpd\u001b[0m\u001b[0;34m.\u001b[0m\u001b[0mread_csv\u001b[0m\u001b[0;34m(\u001b[0m\u001b[0murl\u001b[0m\u001b[0;34m)\u001b[0m\u001b[0;34m\u001b[0m\u001b[0;34m\u001b[0m\u001b[0m\n\u001b[0m\u001b[1;32m      3\u001b[0m \u001b[0;34m\u001b[0m\u001b[0m\n\u001b[1;32m      4\u001b[0m \u001b[0;31m# Extract delhi's data\u001b[0m\u001b[0;34m\u001b[0m\u001b[0;34m\u001b[0m\u001b[0;34m\u001b[0m\u001b[0m\n\u001b[1;32m      5\u001b[0m \u001b[0;34m\u001b[0m\u001b[0m\n",
            "\u001b[0;32m/usr/local/lib/python3.7/dist-packages/pandas/io/parsers.py\u001b[0m in \u001b[0;36mread_csv\u001b[0;34m(filepath_or_buffer, sep, delimiter, header, names, index_col, usecols, squeeze, prefix, mangle_dupe_cols, dtype, engine, converters, true_values, false_values, skipinitialspace, skiprows, skipfooter, nrows, na_values, keep_default_na, na_filter, verbose, skip_blank_lines, parse_dates, infer_datetime_format, keep_date_col, date_parser, dayfirst, cache_dates, iterator, chunksize, compression, thousands, decimal, lineterminator, quotechar, quoting, doublequote, escapechar, comment, encoding, dialect, error_bad_lines, warn_bad_lines, delim_whitespace, low_memory, memory_map, float_precision)\u001b[0m\n\u001b[1;32m    686\u001b[0m     )\n\u001b[1;32m    687\u001b[0m \u001b[0;34m\u001b[0m\u001b[0m\n\u001b[0;32m--> 688\u001b[0;31m     \u001b[0;32mreturn\u001b[0m \u001b[0m_read\u001b[0m\u001b[0;34m(\u001b[0m\u001b[0mfilepath_or_buffer\u001b[0m\u001b[0;34m,\u001b[0m \u001b[0mkwds\u001b[0m\u001b[0;34m)\u001b[0m\u001b[0;34m\u001b[0m\u001b[0;34m\u001b[0m\u001b[0m\n\u001b[0m\u001b[1;32m    689\u001b[0m \u001b[0;34m\u001b[0m\u001b[0m\n\u001b[1;32m    690\u001b[0m \u001b[0;34m\u001b[0m\u001b[0m\n",
            "\u001b[0;32m/usr/local/lib/python3.7/dist-packages/pandas/io/parsers.py\u001b[0m in \u001b[0;36m_read\u001b[0;34m(filepath_or_buffer, kwds)\u001b[0m\n\u001b[1;32m    452\u001b[0m \u001b[0;34m\u001b[0m\u001b[0m\n\u001b[1;32m    453\u001b[0m     \u001b[0;31m# Create the parser.\u001b[0m\u001b[0;34m\u001b[0m\u001b[0;34m\u001b[0m\u001b[0;34m\u001b[0m\u001b[0m\n\u001b[0;32m--> 454\u001b[0;31m     \u001b[0mparser\u001b[0m \u001b[0;34m=\u001b[0m \u001b[0mTextFileReader\u001b[0m\u001b[0;34m(\u001b[0m\u001b[0mfp_or_buf\u001b[0m\u001b[0;34m,\u001b[0m \u001b[0;34m**\u001b[0m\u001b[0mkwds\u001b[0m\u001b[0;34m)\u001b[0m\u001b[0;34m\u001b[0m\u001b[0;34m\u001b[0m\u001b[0m\n\u001b[0m\u001b[1;32m    455\u001b[0m \u001b[0;34m\u001b[0m\u001b[0m\n\u001b[1;32m    456\u001b[0m     \u001b[0;32mif\u001b[0m \u001b[0mchunksize\u001b[0m \u001b[0;32mor\u001b[0m \u001b[0miterator\u001b[0m\u001b[0;34m:\u001b[0m\u001b[0;34m\u001b[0m\u001b[0;34m\u001b[0m\u001b[0m\n",
            "\u001b[0;32m/usr/local/lib/python3.7/dist-packages/pandas/io/parsers.py\u001b[0m in \u001b[0;36m__init__\u001b[0;34m(self, f, engine, **kwds)\u001b[0m\n\u001b[1;32m    946\u001b[0m             \u001b[0mself\u001b[0m\u001b[0;34m.\u001b[0m\u001b[0moptions\u001b[0m\u001b[0;34m[\u001b[0m\u001b[0;34m\"has_index_names\"\u001b[0m\u001b[0;34m]\u001b[0m \u001b[0;34m=\u001b[0m \u001b[0mkwds\u001b[0m\u001b[0;34m[\u001b[0m\u001b[0;34m\"has_index_names\"\u001b[0m\u001b[0;34m]\u001b[0m\u001b[0;34m\u001b[0m\u001b[0;34m\u001b[0m\u001b[0m\n\u001b[1;32m    947\u001b[0m \u001b[0;34m\u001b[0m\u001b[0m\n\u001b[0;32m--> 948\u001b[0;31m         \u001b[0mself\u001b[0m\u001b[0;34m.\u001b[0m\u001b[0m_make_engine\u001b[0m\u001b[0;34m(\u001b[0m\u001b[0mself\u001b[0m\u001b[0;34m.\u001b[0m\u001b[0mengine\u001b[0m\u001b[0;34m)\u001b[0m\u001b[0;34m\u001b[0m\u001b[0;34m\u001b[0m\u001b[0m\n\u001b[0m\u001b[1;32m    949\u001b[0m \u001b[0;34m\u001b[0m\u001b[0m\n\u001b[1;32m    950\u001b[0m     \u001b[0;32mdef\u001b[0m \u001b[0mclose\u001b[0m\u001b[0;34m(\u001b[0m\u001b[0mself\u001b[0m\u001b[0;34m)\u001b[0m\u001b[0;34m:\u001b[0m\u001b[0;34m\u001b[0m\u001b[0;34m\u001b[0m\u001b[0m\n",
            "\u001b[0;32m/usr/local/lib/python3.7/dist-packages/pandas/io/parsers.py\u001b[0m in \u001b[0;36m_make_engine\u001b[0;34m(self, engine)\u001b[0m\n\u001b[1;32m   1178\u001b[0m     \u001b[0;32mdef\u001b[0m \u001b[0m_make_engine\u001b[0m\u001b[0;34m(\u001b[0m\u001b[0mself\u001b[0m\u001b[0;34m,\u001b[0m \u001b[0mengine\u001b[0m\u001b[0;34m=\u001b[0m\u001b[0;34m\"c\"\u001b[0m\u001b[0;34m)\u001b[0m\u001b[0;34m:\u001b[0m\u001b[0;34m\u001b[0m\u001b[0;34m\u001b[0m\u001b[0m\n\u001b[1;32m   1179\u001b[0m         \u001b[0;32mif\u001b[0m \u001b[0mengine\u001b[0m \u001b[0;34m==\u001b[0m \u001b[0;34m\"c\"\u001b[0m\u001b[0;34m:\u001b[0m\u001b[0;34m\u001b[0m\u001b[0;34m\u001b[0m\u001b[0m\n\u001b[0;32m-> 1180\u001b[0;31m             \u001b[0mself\u001b[0m\u001b[0;34m.\u001b[0m\u001b[0m_engine\u001b[0m \u001b[0;34m=\u001b[0m \u001b[0mCParserWrapper\u001b[0m\u001b[0;34m(\u001b[0m\u001b[0mself\u001b[0m\u001b[0;34m.\u001b[0m\u001b[0mf\u001b[0m\u001b[0;34m,\u001b[0m \u001b[0;34m**\u001b[0m\u001b[0mself\u001b[0m\u001b[0;34m.\u001b[0m\u001b[0moptions\u001b[0m\u001b[0;34m)\u001b[0m\u001b[0;34m\u001b[0m\u001b[0;34m\u001b[0m\u001b[0m\n\u001b[0m\u001b[1;32m   1181\u001b[0m         \u001b[0;32melse\u001b[0m\u001b[0;34m:\u001b[0m\u001b[0;34m\u001b[0m\u001b[0;34m\u001b[0m\u001b[0m\n\u001b[1;32m   1182\u001b[0m             \u001b[0;32mif\u001b[0m \u001b[0mengine\u001b[0m \u001b[0;34m==\u001b[0m \u001b[0;34m\"python\"\u001b[0m\u001b[0;34m:\u001b[0m\u001b[0;34m\u001b[0m\u001b[0;34m\u001b[0m\u001b[0m\n",
            "\u001b[0;32m/usr/local/lib/python3.7/dist-packages/pandas/io/parsers.py\u001b[0m in \u001b[0;36m__init__\u001b[0;34m(self, src, **kwds)\u001b[0m\n\u001b[1;32m   2008\u001b[0m         \u001b[0mkwds\u001b[0m\u001b[0;34m[\u001b[0m\u001b[0;34m\"usecols\"\u001b[0m\u001b[0;34m]\u001b[0m \u001b[0;34m=\u001b[0m \u001b[0mself\u001b[0m\u001b[0;34m.\u001b[0m\u001b[0musecols\u001b[0m\u001b[0;34m\u001b[0m\u001b[0;34m\u001b[0m\u001b[0m\n\u001b[1;32m   2009\u001b[0m \u001b[0;34m\u001b[0m\u001b[0m\n\u001b[0;32m-> 2010\u001b[0;31m         \u001b[0mself\u001b[0m\u001b[0;34m.\u001b[0m\u001b[0m_reader\u001b[0m \u001b[0;34m=\u001b[0m \u001b[0mparsers\u001b[0m\u001b[0;34m.\u001b[0m\u001b[0mTextReader\u001b[0m\u001b[0;34m(\u001b[0m\u001b[0msrc\u001b[0m\u001b[0;34m,\u001b[0m \u001b[0;34m**\u001b[0m\u001b[0mkwds\u001b[0m\u001b[0;34m)\u001b[0m\u001b[0;34m\u001b[0m\u001b[0;34m\u001b[0m\u001b[0m\n\u001b[0m\u001b[1;32m   2011\u001b[0m         \u001b[0mself\u001b[0m\u001b[0;34m.\u001b[0m\u001b[0munnamed_cols\u001b[0m \u001b[0;34m=\u001b[0m \u001b[0mself\u001b[0m\u001b[0;34m.\u001b[0m\u001b[0m_reader\u001b[0m\u001b[0;34m.\u001b[0m\u001b[0munnamed_cols\u001b[0m\u001b[0;34m\u001b[0m\u001b[0;34m\u001b[0m\u001b[0m\n\u001b[1;32m   2012\u001b[0m \u001b[0;34m\u001b[0m\u001b[0m\n",
            "\u001b[0;32mpandas/_libs/parsers.pyx\u001b[0m in \u001b[0;36mpandas._libs.parsers.TextReader.__cinit__\u001b[0;34m()\u001b[0m\n",
            "\u001b[0;32mpandas/_libs/parsers.pyx\u001b[0m in \u001b[0;36mpandas._libs.parsers.TextReader._setup_parser_source\u001b[0;34m()\u001b[0m\n",
            "\u001b[0;31mFileNotFoundError\u001b[0m: [Errno 2] No such file or directory: '/content/city_day.csv'"
          ]
        }
      ]
    },
    {
      "cell_type": "code",
      "metadata": {
        "trusted": true,
        "id": "21VcTOdAZ7fH"
      },
      "source": [
        "delhi_data.head()"
      ],
      "execution_count": null,
      "outputs": []
    },
    {
      "cell_type": "markdown",
      "metadata": {
        "id": "0-UbgB2bZ7fI"
      },
      "source": [
        "# Handling Missing values"
      ]
    },
    {
      "cell_type": "code",
      "metadata": {
        "trusted": true,
        "_kg_hide-output": true,
        "id": "v7toxDluZ7fI"
      },
      "source": [
        "def missing_values_table(df):\n",
        "        # Total missing values\n",
        "        mis_val = df.isnull().sum()\n",
        "        \n",
        "        # Percentage of missing values\n",
        "        mis_val_percent = 100 * df.isnull().sum() / len(df)\n",
        "        \n",
        "        # Make a table with the results\n",
        "        mis_val_table = pd.concat([mis_val, mis_val_percent], axis=1)\n",
        "        \n",
        "        # Rename the columns\n",
        "        mis_val_table_ren_columns = mis_val_table.rename(\n",
        "        columns = {0 : 'Missing Values', 1 : '% of Total Values'})\n",
        "        \n",
        "        # Sort the table by percentage of missing descending\n",
        "        mis_val_table_ren_columns = mis_val_table_ren_columns[\n",
        "            mis_val_table_ren_columns.iloc[:,1] != 0].sort_values(\n",
        "        '% of Total Values', ascending=False).round(1)\n",
        "        \n",
        "        # Print some summary information\n",
        "        print (\"Your selected dataframe has \" + str(df.shape[1]) + \" columns.\\n\"      \n",
        "            \"There are \" + str(mis_val_table_ren_columns.shape[0]) +\n",
        "              \" columns that have missing values.\")\n",
        "        \n",
        "        # Return the dataframe with missing information\n",
        "        return mis_val_table_ren_columns"
      ],
      "execution_count": null,
      "outputs": []
    },
    {
      "cell_type": "code",
      "metadata": {
        "trusted": true,
        "id": "8V1qftbgZ7fK"
      },
      "source": [
        "missing_values_table(delhi_data)"
      ],
      "execution_count": null,
      "outputs": []
    },
    {
      "cell_type": "markdown",
      "metadata": {
        "id": "pdfQJ0_oZ7fK"
      },
      "source": [
        "### Imputation using Linear Interpolation method\n",
        "\n",
        "Linear interpolation is an imputation technique that assumes a linear relationship between data points and utilises non-missing values from adjacent data points to compute a value for a missing data point."
      ]
    },
    {
      "cell_type": "code",
      "metadata": {
        "trusted": true,
        "_kg_hide-output": true,
        "id": "eqSymJrAZ7fL"
      },
      "source": [
        "delhi_data.interpolate(limit_direction=\"both\",inplace=True)\n"
      ],
      "execution_count": null,
      "outputs": []
    },
    {
      "cell_type": "code",
      "metadata": {
        "trusted": true,
        "id": "BU-JtHt-Z7fL"
      },
      "source": [
        "missing_values_table(delhi_data)"
      ],
      "execution_count": null,
      "outputs": []
    },
    {
      "cell_type": "markdown",
      "metadata": {
        "id": "R4K99Uq4Z7fM"
      },
      "source": [
        "### Imputing AQI_bucket missing values according to aqi"
      ]
    },
    {
      "cell_type": "code",
      "metadata": {
        "trusted": true,
        "id": "lCN4cPysZ7fM"
      },
      "source": [
        "delhi_data['AQI_Bucket'].iloc[0]"
      ],
      "execution_count": null,
      "outputs": []
    },
    {
      "cell_type": "code",
      "metadata": {
        "trusted": true,
        "_kg_hide-output": true,
        "id": "cxtyP5YNZ7fM"
      },
      "source": [
        "for i,each in enumerate(delhi_data['AQI_Bucket']):\n",
        "    if pd.isnull(delhi_data['AQI_Bucket'].iloc[i]):\n",
        "        if delhi_data['AQI'].iloc[i]>=0.0 and delhi_data['AQI'].iloc[i]<=50.0:\n",
        "            delhi_data['AQI_Bucket'].iloc[i]='Good'\n",
        "        elif delhi_data['AQI'].iloc[i]>=51.0 and delhi_data['AQI'].iloc[i]<=100.0:\n",
        "            delhi_data['AQI_Bucket'].iloc[i]='Satisfactory'\n",
        "        elif delhi_data['AQI'].iloc[i]>=101.0 and delhi_data['AQI'].iloc[i]<=200.0:\n",
        "            delhi_data['AQI_Bucket'].iloc[i]='Moderate'\n",
        "        elif delhi_data['AQI'].iloc[i]>=201.0 and delhi_data['AQI'].iloc[i]<=300.0:\n",
        "            delhi_data['AQI_Bucket'][i]='Poor'\n",
        "        elif delhi_data['AQI'].iloc[i]>=301.0 and delhi_data['AQI'].iloc[i]<=400.0:\n",
        "            delhi_data['AQI_Bucket'].iloc[i]='Very Poor'\n",
        "        else:\n",
        "            delhi_data['AQI_Bucket'].iloc[i]='Severe'\n"
      ],
      "execution_count": null,
      "outputs": []
    },
    {
      "cell_type": "markdown",
      "metadata": {
        "id": "D5Kifym7Z7fN"
      },
      "source": [
        "## **Now Our dataset is ready for analaysis**"
      ]
    },
    {
      "cell_type": "code",
      "metadata": {
        "trusted": true,
        "id": "zuINS-rYZ7fN"
      },
      "source": [
        "delhi_data.head(2)"
      ],
      "execution_count": null,
      "outputs": []
    },
    {
      "cell_type": "markdown",
      "metadata": {
        "id": "ADQWx9hrZ7fN"
      },
      "source": [
        "# PM2.5 in Delhi"
      ]
    },
    {
      "cell_type": "code",
      "metadata": {
        "trusted": true,
        "id": "WaCnw7VxZ7fO"
      },
      "source": [
        "fig = px.line(delhi_data, x=\"Date\", y=\"PM2.5\")\n",
        "fig.show()"
      ],
      "execution_count": null,
      "outputs": []
    },
    {
      "cell_type": "markdown",
      "metadata": {
        "id": "HQm4Z5mmZ7fO"
      },
      "source": [
        "> As we can see from the above graph PM2.5 changes seasonally , It is peak in winter months like jan ,nov ,dec ,jan, feb\n",
        "> Comparatively high in nov 2016 ,nov 2017 and nov 2019\n"
      ]
    },
    {
      "cell_type": "markdown",
      "metadata": {
        "id": "rlZej7v-Z7fO"
      },
      "source": [
        "## Pattern of PM2.5 in 2019 and 2020"
      ]
    },
    {
      "cell_type": "code",
      "metadata": {
        "trusted": true,
        "id": "8goN1EX1Z7fO"
      },
      "source": [
        "df_year_19_20=delhi_data[delhi_data['Date']>='2019']"
      ],
      "execution_count": null,
      "outputs": []
    },
    {
      "cell_type": "code",
      "metadata": {
        "trusted": true,
        "id": "wqzzZAvBZ7fP"
      },
      "source": [
        "fig = px.line(df_year_19_20, x=\"Date\", y=\"PM2.5\")\n",
        "fig.show()"
      ],
      "execution_count": null,
      "outputs": []
    },
    {
      "cell_type": "code",
      "metadata": {
        "trusted": true,
        "_kg_hide-output": true,
        "id": "Xn_V3HVQZ7fP"
      },
      "source": [
        "Mar_may_2019=delhi_data[(delhi_data['Date'] >= '2019-03') & (delhi_data['Date'] <= '2019-05')]\n",
        "Mar_may_2020=delhi_data[(delhi_data['Date'] >= '2020-03') & (delhi_data['Date'] <= '2020-05')]"
      ],
      "execution_count": null,
      "outputs": []
    },
    {
      "cell_type": "code",
      "metadata": {
        "trusted": true,
        "id": "xTRNWormZ7fP"
      },
      "source": [
        "plt.style.use('fivethirtyeight')"
      ],
      "execution_count": null,
      "outputs": []
    },
    {
      "cell_type": "markdown",
      "metadata": {
        "id": "t2KrlX6GZ7fP"
      },
      "source": [
        "## Effect of lockdown in PM2.5"
      ]
    },
    {
      "cell_type": "code",
      "metadata": {
        "trusted": true,
        "id": "aFns5LfIZ7fQ"
      },
      "source": [
        "fig = go.Figure()\n",
        "fig.add_trace(go.Scatter(x=Mar_may_2019['Date'], y=Mar_may_2019['PM2.5'],\n",
        "                    mode='lines+markers',\n",
        "                    name='PM2.5 levels of 2019'))\n",
        "fig.add_trace(go.Scatter(x=Mar_may_2019['Date'], y=Mar_may_2020['PM2.5'],\n",
        "                    mode='lines+markers',\n",
        "                    name='PM2.5 levels of 2020'))\n",
        " \n",
        "fig.show()"
      ],
      "execution_count": null,
      "outputs": []
    },
    {
      "cell_type": "markdown",
      "metadata": {
        "id": "uS3Sq3zbZ7fQ"
      },
      "source": [
        "> PM2.5 lower this year in march and april , it may be because of lockdown (as compared to year 2019)"
      ]
    },
    {
      "cell_type": "markdown",
      "metadata": {
        "id": "nwe8LUcRZ7fQ"
      },
      "source": [
        "#  PM10 in Delhi"
      ]
    },
    {
      "cell_type": "code",
      "metadata": {
        "trusted": true,
        "id": "UQgEjG37Z7fR"
      },
      "source": [
        "fig = px.line(delhi_data, x=\"Date\", y=\"PM10\")\n",
        "fig.show()"
      ],
      "execution_count": null,
      "outputs": []
    },
    {
      "cell_type": "markdown",
      "metadata": {
        "id": "55dwX4zaZ7fR"
      },
      "source": [
        "> similar pattern like PM2.5(Seasonal changes)"
      ]
    },
    {
      "cell_type": "markdown",
      "metadata": {
        "id": "jfQZ_xOHZ7fR"
      },
      "source": [
        "## Pattern of PM10 in 2019 and 2020"
      ]
    },
    {
      "cell_type": "code",
      "metadata": {
        "trusted": true,
        "id": "Ch3ahx9TZ7fR"
      },
      "source": [
        "fig = px.line(df_year_19_20, x=\"Date\", y=\"PM10\")\n",
        "fig.show()"
      ],
      "execution_count": null,
      "outputs": []
    },
    {
      "cell_type": "markdown",
      "metadata": {
        "id": "s6d_gg90Z7fS"
      },
      "source": [
        "## Effect of lockdown in PM10"
      ]
    },
    {
      "cell_type": "code",
      "metadata": {
        "trusted": true,
        "id": "rJOo75wlZ7fS"
      },
      "source": [
        "fig = go.Figure()\n",
        "fig.add_trace(go.Scatter(x=Mar_may_2019['Date'], y=Mar_may_2019['PM10'],\n",
        "                    mode='lines+markers',\n",
        "                    name='PM10 levels of delhi march and april month of 2019'))\n",
        "fig.add_trace(go.Scatter(x=Mar_may_2019['Date'], y=Mar_may_2020['PM10'],\n",
        "                    mode='lines+markers',\n",
        "                    name='PM10 levels of delhi march and april month of 2020'))\n",
        "fig.show()"
      ],
      "execution_count": null,
      "outputs": []
    },
    {
      "cell_type": "markdown",
      "metadata": {
        "id": "1njlIIRRZ7fS"
      },
      "source": [
        "> As from the above graph we can see that PM10 is lower this year in march and april , it may be because of lockdown (as compared to year 2019)                                                                                                                       \n",
        "> PM10 level in 28 march 2019 ~  257.27                                                                                             \n",
        "> PM10 level in 28 march 2020 ~  34.15"
      ]
    },
    {
      "cell_type": "markdown",
      "metadata": {
        "id": "vtt_vv3fZ7fT"
      },
      "source": [
        "![image.png](attachment:image.png)"
      ]
    },
    {
      "cell_type": "markdown",
      "metadata": {
        "id": "3t_16SRiZ7fT"
      },
      "source": [
        "# NO levels in delhi"
      ]
    },
    {
      "cell_type": "code",
      "metadata": {
        "trusted": true,
        "id": "6USadcesZ7fT"
      },
      "source": [
        "fig = px.line(delhi_data, x=\"Date\", y=\"NO\")\n",
        "fig.show()"
      ],
      "execution_count": null,
      "outputs": []
    },
    {
      "cell_type": "markdown",
      "metadata": {
        "id": "jro9TfKqZ7fU"
      },
      "source": [
        "* ***NO*** level is high in Winter months \n",
        "* Highest ***NO*** level is seen in ***Jan 2017***  i.e 221.03\n"
      ]
    },
    {
      "cell_type": "markdown",
      "metadata": {
        "id": "MW6K9_AgZ7fU"
      },
      "source": [
        "## Pattern of *NO* in 2019 and 2020"
      ]
    },
    {
      "cell_type": "code",
      "metadata": {
        "trusted": true,
        "id": "F7A8euFTZ7fV"
      },
      "source": [
        "fig = px.line(df_year_19_20, x=\"Date\", y=\"NO\")\n",
        "fig.show()"
      ],
      "execution_count": null,
      "outputs": []
    },
    {
      "cell_type": "markdown",
      "metadata": {
        "id": "IS6o5sgAZ7fV"
      },
      "source": [
        "## Lockdown Effect in *NO* level"
      ]
    },
    {
      "cell_type": "code",
      "metadata": {
        "trusted": true,
        "_kg_hide-output": true,
        "id": "FRHvmgMzZ7fV"
      },
      "source": [
        "march24_2019=delhi_data[(delhi_data['Date'] >= '2019-03-23') & (delhi_data['Date'] <= '2019-04-15')]\n",
        "march24_2020=delhi_data[(delhi_data['Date'] >= '2020-03-23') & (delhi_data['Date'] <= '2020-04-15')]"
      ],
      "execution_count": null,
      "outputs": []
    },
    {
      "cell_type": "code",
      "metadata": {
        "trusted": true,
        "id": "An_6jeeDZ7fW"
      },
      "source": [
        "fig = go.Figure()\n",
        "fig.add_trace(go.Scatter(x=march24_2019['Date'], y=march24_2019['NO'],\n",
        "                    mode='lines+markers',\n",
        "                    name='NO levels of delhi from 23-march-2019  to 15-april 2019'))\n",
        "fig.add_trace(go.Scatter(x=march24_2019['Date'], y=march24_2020['NO'],\n",
        "                    mode='lines+markers',\n",
        "                    name='NO levels of delhi from 23-march-2020  to 15-april 2020'))\n",
        "fig.show()"
      ],
      "execution_count": null,
      "outputs": []
    },
    {
      "cell_type": "markdown",
      "metadata": {
        "id": "TMnpFSpnZ7fW"
      },
      "source": [
        " > Shocking right!! restrictions on vehicular activity led to reduction in NO levels \n",
        " "
      ]
    },
    {
      "cell_type": "markdown",
      "metadata": {
        "id": "H9CUGFFkZ7fW"
      },
      "source": [
        "# NO2 level in Delhi"
      ]
    },
    {
      "cell_type": "code",
      "metadata": {
        "trusted": true,
        "id": "wO4SyPXcZ7fX"
      },
      "source": [
        "fig = px.line(delhi_data, x=\"Date\", y=\"NO2\")\n",
        "fig.show()"
      ],
      "execution_count": null,
      "outputs": []
    },
    {
      "cell_type": "markdown",
      "metadata": {
        "id": "--qnu2PsZ7fX"
      },
      "source": [
        "## Pattern of NO2 in 2019 and 2020"
      ]
    },
    {
      "cell_type": "code",
      "metadata": {
        "trusted": true,
        "id": "NMO5CCIJZ7fX"
      },
      "source": [
        "fig = px.line(df_year_19_20, x=\"Date\", y=\"NO2\")\n",
        "fig.show()"
      ],
      "execution_count": null,
      "outputs": []
    },
    {
      "cell_type": "markdown",
      "metadata": {
        "id": "lfamVjFMZ7fX"
      },
      "source": [
        "> High in winter months"
      ]
    },
    {
      "cell_type": "markdown",
      "metadata": {
        "id": "hnaDd6vXZ7fX"
      },
      "source": [
        "## Lockdown Effect in *NO2* level"
      ]
    },
    {
      "cell_type": "code",
      "metadata": {
        "trusted": true,
        "id": "aNb_ttrmZ7fY"
      },
      "source": [
        "fig = go.Figure()\n",
        "fig.add_trace(go.Scatter(x=march24_2019['Date'], y=march24_2019['NO2'],\n",
        "                    mode='lines+markers',\n",
        "                    name='NO2 levels of delhi from 23-march-2019  to 15-april 2019'))\n",
        "fig.add_trace(go.Scatter(x=march24_2019['Date'], y=march24_2020['NO2'],\n",
        "                    mode='lines+markers',\n",
        "                    name='NO2 levels of delhi from 23-march-2020  to 15-april 2020'))\n",
        "fig.show()"
      ],
      "execution_count": null,
      "outputs": []
    },
    {
      "cell_type": "markdown",
      "metadata": {
        "id": "GGxk4V1gZ7fY"
      },
      "source": [
        "> NO2 levels are lowered this year than last year"
      ]
    },
    {
      "cell_type": "markdown",
      "metadata": {
        "id": "Mq4XKL5aZ7fY"
      },
      "source": [
        "# Ozone or O3 level in Delhi"
      ]
    },
    {
      "cell_type": "code",
      "metadata": {
        "trusted": true,
        "id": "1kTfGtUgZ7fY"
      },
      "source": [
        "fig = px.line(delhi_data, x=\"Date\", y=\"O3\")\n",
        "fig.show()"
      ],
      "execution_count": null,
      "outputs": []
    },
    {
      "cell_type": "markdown",
      "metadata": {
        "id": "Ud_JaoRjZ7fZ"
      },
      "source": [
        " > O3 levels are high in year 2015-2017 and lowered in further years"
      ]
    },
    {
      "cell_type": "markdown",
      "metadata": {
        "id": "nvrzHVZTZ7fZ"
      },
      "source": [
        "## Pattern of NO2 in 2019 and 2020"
      ]
    },
    {
      "cell_type": "code",
      "metadata": {
        "trusted": true,
        "id": "fvh989uIZ7fZ"
      },
      "source": [
        "fig = px.line(df_year_19_20, x=\"Date\", y=\"O3\")\n",
        "fig.show()"
      ],
      "execution_count": null,
      "outputs": []
    },
    {
      "cell_type": "markdown",
      "metadata": {
        "id": "1n0g5RjRZ7fZ"
      },
      "source": [
        "> O3 is high in summer and comparatively lower in winters"
      ]
    },
    {
      "cell_type": "markdown",
      "metadata": {
        "id": "6BFdSn4wZ7fa"
      },
      "source": [
        "##  Lockdown Effect in *O3* level"
      ]
    },
    {
      "cell_type": "code",
      "metadata": {
        "trusted": true,
        "id": "Fjdz76hSZ7fa"
      },
      "source": [
        "fig = go.Figure()\n",
        "fig.add_trace(go.Scatter(x=march24_2019['Date'], y=march24_2019['O3'],\n",
        "                    mode='lines+markers',\n",
        "                    name='O3 levels of delhi from 23-march-2019  to 15-april 2019'))\n",
        "fig.add_trace(go.Scatter(x=march24_2019['Date'], y=march24_2020['O3'],\n",
        "                    mode='lines+markers',\n",
        "                    name='O3 levels of delhi from 23-march-2020  to 15-april 2020'))\n",
        "fig.show()"
      ],
      "execution_count": null,
      "outputs": []
    },
    {
      "cell_type": "markdown",
      "metadata": {
        "id": "_sqYLlRIZ7fa"
      },
      "source": [
        "> O3 levels lower in lockdown period . Lowest O3 level is on 28 march 2020(25.6)"
      ]
    },
    {
      "cell_type": "markdown",
      "metadata": {
        "id": "osXiEPjTZ7fa"
      },
      "source": [
        "# Sulpher Dioxide levels in Delhi (SO2)"
      ]
    },
    {
      "cell_type": "code",
      "metadata": {
        "trusted": true,
        "id": "G4pYs_xuZ7fb"
      },
      "source": [
        "fig = px.line(delhi_data, x=\"Date\", y=\"SO2\")\n",
        "fig.show()"
      ],
      "execution_count": null,
      "outputs": []
    },
    {
      "cell_type": "markdown",
      "metadata": {
        "id": "SxV1GZBvZ7fb"
      },
      "source": [
        "> SO2 levels are increasing from 2015 then lowered in june 2016 then pick attained in 2017 and then again lowered after 2018"
      ]
    },
    {
      "cell_type": "markdown",
      "metadata": {
        "id": "wZxcCCeNZ7fb"
      },
      "source": [
        "## Lockdown effect in SO2 levels in delhi"
      ]
    },
    {
      "cell_type": "code",
      "metadata": {
        "trusted": true,
        "id": "PCOCJdp8Z7fc"
      },
      "source": [
        "fig = go.Figure()\n",
        "fig.add_trace(go.Scatter(x=march24_2019['Date'], y=march24_2019['SO2'],\n",
        "                    mode='lines+markers',\n",
        "                    name='SO2 levels of delhi from 23-march-2019  to 15-april 2019'))\n",
        "fig.add_trace(go.Scatter(x=march24_2019['Date'], y=march24_2020['SO2'],\n",
        "                    mode='lines+markers',\n",
        "                    name='SO2 levels of delhi from 23-march-2020  to 15-april 2020'))\n",
        "fig.show()"
      ],
      "execution_count": null,
      "outputs": []
    },
    {
      "cell_type": "markdown",
      "metadata": {
        "id": "wOjjNoW6Z7fc"
      },
      "source": [
        "> SO2 Levels also lowered in lockdown period"
      ]
    },
    {
      "cell_type": "markdown",
      "metadata": {
        "id": "uFPwGurhZ7fc"
      },
      "source": [
        "# BTX  levels (Benzene,Toluene,Xylene)\n",
        "\n",
        "Benzene, toluene, xylene, and formaldehyde are well-known indoor air pollutants, especially after house decoration. They are also common pollutants in the working places of the plastic industry, chemical industry, and leather industry"
      ]
    },
    {
      "cell_type": "code",
      "metadata": {
        "trusted": true,
        "id": "tpJdvWNTZ7fc"
      },
      "source": [
        "fig = go.Figure()\n",
        "fig.add_trace(go.Scatter(x=delhi_data['Date'], y=delhi_data['Benzene'],\n",
        "                    mode='lines',\n",
        "                    name='Benzene level'))\n",
        "fig.add_trace(go.Scatter(x=delhi_data['Date'], y=delhi_data['Toluene'],\n",
        "                    mode='lines',\n",
        "                    name='Toluene level'))\n",
        "fig.add_trace(go.Scatter(x=delhi_data['Date'], y=delhi_data['Xylene'],\n",
        "                    mode='lines',\n",
        "                    name='Xylene level'))\n",
        "fig.show()"
      ],
      "execution_count": null,
      "outputs": []
    },
    {
      "cell_type": "markdown",
      "metadata": {
        "id": "i4sFHKUkZ7fd"
      },
      "source": [
        "## BTX levels month-wise"
      ]
    },
    {
      "cell_type": "code",
      "metadata": {
        "trusted": true,
        "id": "Ls1xvr2VZ7fd"
      },
      "source": [
        "data_2019=delhi_data[(delhi_data['Date'] >= '2019') & (delhi_data['Date'] < '2020')]\n",
        "data_2019['BTX']=data_2019['Benzene'] + data_2019['Toluene'] + data_2019['Xylene']"
      ],
      "execution_count": null,
      "outputs": []
    },
    {
      "cell_type": "code",
      "metadata": {
        "trusted": true,
        "id": "Zr-Ef8kzZ7fd"
      },
      "source": [
        "fig = px.line(data_2019, x=\"Date\", y=\"BTX\")\n",
        "fig.show()"
      ],
      "execution_count": null,
      "outputs": []
    },
    {
      "cell_type": "markdown",
      "metadata": {
        "id": "JB2iYgZsZ7fd"
      },
      "source": [
        "# Air Quality Index of Delhi\n",
        "\n",
        "An air quality index is used by government agencies to communicate to the public how polluted the air currently is or how polluted it is forecast to become. Public health risks increase as the AQI rises. Different countries have their own air quality indices, corresponding to different national air quality standards. \n",
        "\n",
        "*Source - Wikipedia*"
      ]
    },
    {
      "cell_type": "markdown",
      "metadata": {
        "id": "W_BN3sNqZ7fe"
      },
      "source": [
        "![image.png](attachment:image.png)"
      ]
    },
    {
      "cell_type": "code",
      "metadata": {
        "trusted": true,
        "id": "yItwM0FEZ7fe"
      },
      "source": [
        "fig = px.line(delhi_data, x=\"Date\", y=\"AQI\")\n",
        "fig.show()"
      ],
      "execution_count": null,
      "outputs": []
    },
    {
      "cell_type": "markdown",
      "metadata": {
        "id": "xN-arqhMZ7fe"
      },
      "source": [
        "> Graph shows the variation of various pollutant levels, from Jan 2019 onwards till date."
      ]
    },
    {
      "cell_type": "markdown",
      "metadata": {
        "id": "t_fpQAKYZ7fe"
      },
      "source": [
        "# Effect on AQI levels of delhi due to lockdown"
      ]
    },
    {
      "cell_type": "code",
      "metadata": {
        "trusted": true,
        "id": "uScCPnHaZ7ff"
      },
      "source": [
        "fig = go.Figure()\n",
        "fig.add_trace(go.Scatter(x=march24_2019['Date'], y=march24_2019['AQI'],\n",
        "                    mode='lines+markers',\n",
        "                    name='AQI levels of delhi from 23-march-2019  to 15-april 2019'))\n",
        "fig.add_trace(go.Scatter(x=march24_2019['Date'], y=march24_2020['AQI'],\n",
        "                    mode='lines+markers',\n",
        "                    name='AQI levels of delhi from 23-march-2020  to 15-april 2020'))\n",
        "fig.show()"
      ],
      "execution_count": null,
      "outputs": []
    },
    {
      "cell_type": "code",
      "metadata": {
        "trusted": true,
        "id": "dmK1CYMIZ7ff"
      },
      "source": [
        "march24_2019['AQI'].mean()"
      ],
      "execution_count": null,
      "outputs": []
    },
    {
      "cell_type": "code",
      "metadata": {
        "trusted": true,
        "id": "pq7sFq1tZ7ff"
      },
      "source": [
        "march24_2020['AQI'].mean()"
      ],
      "execution_count": null,
      "outputs": []
    },
    {
      "cell_type": "markdown",
      "metadata": {
        "id": "nrwp5QnsZ7ff"
      },
      "source": [
        "As AQI Levels changes POOR to SATISFACTORY due to lockdown as compared to last year"
      ]
    },
    {
      "cell_type": "markdown",
      "metadata": {
        "id": "cJnDOhheZ7ff"
      },
      "source": [
        "Much of the world is seeing significant reductions in many air pollutant and greenhouse gas emissions due to efforts to stem the covid-19 pandemic. This is a stark confirmation of the contribution of our everyday activities to sources of emissions of the air pollutants that we breathe and the greenhouse gases that drive global warming. The speed with which emissions have fallen shows how quickly we can improve our environment when motivated and how vulnerable we are living in degraded environments.\n",
        "\n",
        "As with previous shocks, we know that pollution continues to occur even with significant government-imposed constraints. For example, pollutants from transport and industrial sectors have decreased but not from residential or agricultural sources. Moreover, some pollutants, like ozone, result from secondary atmospheric processes resulting in nonlinear links between reduced emissions and ambient concentrations \n",
        "\n",
        "While these decreases result in public health benefits from improved air quality, they come at the unacceptable cost of thousands of deaths, rapidly increasing unemployment, and staggering economic dislocation. And, at the individual level, some families may be exposed to even greater pollution levels (e.g. from increased open-burning cookstove meals) during the lockdown."
      ]
    },
    {
      "cell_type": "markdown",
      "metadata": {
        "id": "LNcDx7ysZ7fg"
      },
      "source": [
        "# Solutions that deliver economic and social objectives while simultaneously protecting our air and climate"
      ]
    },
    {
      "cell_type": "markdown",
      "metadata": {
        "id": "jgUY2xCpZ7fg"
      },
      "source": [
        "* development, deployment, and integration of clean renewable energy instead of fossil fuels, ensuring equitable and affordable access for all;\n",
        "\n",
        "*  measures which reduce short-lived climate pollutants such as addressing emissions from the burning or collection of municipal solid waste; these measures are often low/no-cost, and quickly achieve multiple near-term economic, public health, and social benefits;\n",
        "\n",
        "* policies and regulations which improve indoor air quality by incentivizing energy access and energy efficiency of buildings and appliances;\n",
        "\n",
        "* preserving our forests and other natural sinks, as well as in expanding them;\n",
        "\n",
        "* sustainable food systems, reduced food waste, and the promotion of healthy diets;\n",
        "\n",
        "* a more local, circular, and low-carbon economy incentivising safe reuse, remanufacturing, and recycling of products;\n",
        "\n",
        "* more resource efficient, sustainable, and resilient supply chains;\n",
        "\n",
        "* sustainable transport systems including encouraging active travel, work from home, and implementing policies to reduce daily commuting and reducing business travel;\n",
        "\n",
        "* invest in knowledge institutions, especially in the Global South, to strengthen their capability to produce high quality and context relevant analyses and build the requisite human resources."
      ]
    }
  ]
}